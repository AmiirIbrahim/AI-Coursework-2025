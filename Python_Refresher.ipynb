{
 "cells": [
  {
   "cell_type": "code",
   "execution_count": 1,
   "id": "35310503",
   "metadata": {},
   "outputs": [
    {
     "name": "stdout",
     "output_type": "stream",
     "text": [
      "3 day(s) have 259200 seconds.\n"
     ]
    }
   ],
   "source": [
    "# Program to calculate the number of seconds in a given number of days\n",
    "\n",
    "# Ask the user for the number of days\n",
    "days = int(input(\"Enter the number of days: \"))\n",
    "\n",
    "# Calculate the number of seconds\n",
    "seconds = days * 24 * 60 * 60\n",
    "\n",
    "# Display the result\n",
    "print(f\"{days} day(s) have {seconds} seconds.\")"
   ]
  },
  {
   "cell_type": "code",
   "execution_count": 2,
   "id": "de5c7e99",
   "metadata": {},
   "outputs": [
    {
     "name": "stdout",
     "output_type": "stream",
     "text": [
      "The volume of a sphere with radius 4.0 is 268.08\n"
     ]
    }
   ],
   "source": [
    "# Program to calculate the volume of a sphere\n",
    "\n",
    "import math  # to use the value of pi\n",
    "\n",
    "# Ask the user for the radius\n",
    "radius = float(input(\"Enter the radius of the sphere: \"))\n",
    "\n",
    "# Calculate the volume using the formula (4/3)πr^3\n",
    "volume = (4 / 3) * math.pi * (radius ** 3)\n",
    "\n",
    "# Display the result\n",
    "print(f\"The volume of a sphere with radius {radius} is {volume:.2f}\")"
   ]
  },
  {
   "cell_type": "code",
   "execution_count": 7,
   "id": "154bbda5",
   "metadata": {},
   "outputs": [
    {
     "name": "stdout",
     "output_type": "stream",
     "text": [
      "\n",
      "Results for a square with side 9.0:\n",
      "Area: 81.0\n",
      "Perimeter: 36.0\n"
     ]
    }
   ],
   "source": [
    "# Program to compute the area and perimeter of a square using functions\n",
    "\n",
    "# Function to calculate the area\n",
    "def area_of_square(side):\n",
    "    return side * side\n",
    "\n",
    "# Function to calculate the perimeter\n",
    "def perimeter_of_square(side):\n",
    "    return 4 * side\n",
    "\n",
    "# Main program\n",
    "def main():\n",
    "    # Ask the user for the side length\n",
    "    side = input(\"Enter the side length of the square: \")\n",
    "    \n",
    "    # Convert input to a number (float allows decimals)\n",
    "    side = float(side)\n",
    "\n",
    "    # Calculate area and perimeter\n",
    "    area = area_of_square(side)\n",
    "    perimeter = perimeter_of_square(side)\n",
    "\n",
    "    # Display results\n",
    "    print(f\"\\nResults for a square with side {side}:\")\n",
    "    print(f\"Area: {area}\")\n",
    "    print(f\"Perimeter: {perimeter}\")\n",
    "\n",
    "# Run the program\n",
    "main()\n"
   ]
  },
  {
   "cell_type": "code",
   "execution_count": 8,
   "id": "0af5745d",
   "metadata": {},
   "outputs": [
    {
     "name": "stdout",
     "output_type": "stream",
     "text": [
      "The character 'A' is Uppercase.\n"
     ]
    }
   ],
   "source": [
    "# Program to check if a character is uppercase or lowercase\n",
    "\n",
    "# Function to check the case of a character\n",
    "def check_case(char):\n",
    "    if char.isupper():\n",
    "        return \"Uppercase\"\n",
    "    elif char.islower():\n",
    "        return \"Lowercase\"\n",
    "    else:\n",
    "        return \"Not a letter\"\n",
    "\n",
    "# Main program\n",
    "def main():\n",
    "    # Ask the user for a character\n",
    "    ch = input(\"Enter a single character: \")\n",
    "\n",
    "    # Ensure only one character is entered\n",
    "    if len(ch) != 1:\n",
    "        print(\"Please enter exactly one character.\")\n",
    "    else:\n",
    "        result = check_case(ch)\n",
    "        print(f\"The character '{ch}' is {result}.\")\n",
    "\n",
    "# Run the program\n",
    "main()\n"
   ]
  },
  {
   "cell_type": "code",
   "execution_count": 9,
   "id": "42a91720",
   "metadata": {},
   "outputs": [
    {
     "name": "stdout",
     "output_type": "stream",
     "text": [
      "Final value of x: 1.0416666666666665\n"
     ]
    }
   ],
   "source": [
    "# Program to implement the given pseudocode\n",
    "\n",
    "def main():\n",
    "    x = 0\n",
    "    y = 20\n",
    "\n",
    "    # Repeat until y is less than 6\n",
    "    while y >= 6:\n",
    "        y -= 4            # subtract 4 from y\n",
    "        x += 2 / y        # add (2 / y) to x\n",
    "\n",
    "    # Display the final value of x\n",
    "    print(\"Final value of x:\", x)\n",
    "\n",
    "# Run the program\n",
    "main()\n"
   ]
  },
  {
   "cell_type": "code",
   "execution_count": 10,
   "id": "076db695",
   "metadata": {},
   "outputs": [
    {
     "name": "stdout",
     "output_type": "stream",
     "text": [
      "\n",
      "Values entered: [10.5, 10.9, 20.5, 40.5, 50.5]\n",
      "Average of the values: 26.58\n"
     ]
    }
   ],
   "source": [
    "# Program to input 5 values into an array and calculate the average\n",
    "\n",
    "def main():\n",
    "    numbers = []  # empty list to store values\n",
    "\n",
    "    # Loop exactly 5 times to collect values\n",
    "    for i in range(5):\n",
    "        value = float(input(f\"Enter value {i+1}: \"))\n",
    "        numbers.append(value)\n",
    "\n",
    "    # Calculate average\n",
    "    average = sum(numbers) / len(numbers)\n",
    "\n",
    "    # Display the result\n",
    "    print(\"\\nValues entered:\", numbers)\n",
    "    print(f\"Average of the values: {average:.2f}\")\n",
    "\n",
    "# Run the program\n",
    "main()\n"
   ]
  }
 ],
 "metadata": {
  "kernelspec": {
   "display_name": "Python 3",
   "language": "python",
   "name": "python3"
  },
  "language_info": {
   "codemirror_mode": {
    "name": "ipython",
    "version": 3
   },
   "file_extension": ".py",
   "mimetype": "text/x-python",
   "name": "python",
   "nbconvert_exporter": "python",
   "pygments_lexer": "ipython3",
   "version": "3.12.6"
  }
 },
 "nbformat": 4,
 "nbformat_minor": 5
}
